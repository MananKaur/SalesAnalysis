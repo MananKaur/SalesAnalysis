{
 "cells": [
  {
   "cell_type": "markdown",
   "id": "e5562f76",
   "metadata": {},
   "source": [
    "### Import necessary libraries "
   ]
  },
  {
   "cell_type": "code",
   "execution_count": 8,
   "id": "6f71711c",
   "metadata": {},
   "outputs": [],
   "source": [
    "import pandas as pd\n",
    "import os"
   ]
  },
  {
   "cell_type": "markdown",
   "id": "b0990387",
   "metadata": {},
   "source": [
    "### Task 1 : Merging 12 months of data in one file "
   ]
  },
  {
   "cell_type": "code",
   "execution_count": 9,
   "id": "e22ad6ec",
   "metadata": {},
   "outputs": [],
   "source": [
    "all_months_data = pd.DataFrame()"
   ]
  },
  {
   "cell_type": "code",
   "execution_count": 10,
   "id": "d4806b23",
   "metadata": {},
   "outputs": [],
   "source": [
    "file_list = os.listdir('./Sales_Data')"
   ]
  },
  {
   "cell_type": "code",
   "execution_count": 11,
   "id": "460c229b",
   "metadata": {},
   "outputs": [
    {
     "name": "stdout",
     "output_type": "stream",
     "text": [
      "['Sales_April_2019.csv', 'Sales_August_2019.csv', 'Sales_December_2019.csv', 'Sales_February_2019.csv', 'Sales_January_2019.csv', 'Sales_July_2019.csv', 'Sales_June_2019.csv', 'Sales_March_2019.csv', 'Sales_May_2019.csv', 'Sales_November_2019.csv', 'Sales_October_2019.csv', 'Sales_September_2019.csv']\n"
     ]
    }
   ],
   "source": [
    "print(file_list)"
   ]
  },
  {
   "cell_type": "code",
   "execution_count": 12,
   "id": "e20d186f",
   "metadata": {},
   "outputs": [],
   "source": [
    "for file in file_list:\n",
    "    df = pd.read_csv('./Sales_Data/'+file)\n",
    "    all_months_data = pd.concat([all_months_data, df])"
   ]
  },
  {
   "cell_type": "code",
   "execution_count": 13,
   "id": "da7f7994",
   "metadata": {},
   "outputs": [],
   "source": [
    "all_months_data.to_csv('All_Sales.csv', index = False)"
   ]
  },
  {
   "cell_type": "code",
   "execution_count": 14,
   "id": "46a0def4",
   "metadata": {},
   "outputs": [
    {
     "data": {
      "text/html": [
       "<div>\n",
       "<style scoped>\n",
       "    .dataframe tbody tr th:only-of-type {\n",
       "        vertical-align: middle;\n",
       "    }\n",
       "\n",
       "    .dataframe tbody tr th {\n",
       "        vertical-align: top;\n",
       "    }\n",
       "\n",
       "    .dataframe thead th {\n",
       "        text-align: right;\n",
       "    }\n",
       "</style>\n",
       "<table border=\"1\" class=\"dataframe\">\n",
       "  <thead>\n",
       "    <tr style=\"text-align: right;\">\n",
       "      <th></th>\n",
       "      <th>Order ID</th>\n",
       "      <th>Product</th>\n",
       "      <th>Quantity Ordered</th>\n",
       "      <th>Price Each</th>\n",
       "      <th>Order Date</th>\n",
       "      <th>Purchase Address</th>\n",
       "    </tr>\n",
       "  </thead>\n",
       "  <tbody>\n",
       "    <tr>\n",
       "      <th>6344</th>\n",
       "      <td>147268</td>\n",
       "      <td>Wired Headphones</td>\n",
       "      <td>1</td>\n",
       "      <td>11.99</td>\n",
       "      <td>01/01/19 03:07</td>\n",
       "      <td>9 Lake St, New York City, NY 10001</td>\n",
       "    </tr>\n",
       "    <tr>\n",
       "      <th>7154</th>\n",
       "      <td>148041</td>\n",
       "      <td>USB-C Charging Cable</td>\n",
       "      <td>1</td>\n",
       "      <td>11.95</td>\n",
       "      <td>01/01/19 03:40</td>\n",
       "      <td>760 Church St, San Francisco, CA 94016</td>\n",
       "    </tr>\n",
       "    <tr>\n",
       "      <th>8507</th>\n",
       "      <td>149343</td>\n",
       "      <td>Apple Airpods Headphones</td>\n",
       "      <td>1</td>\n",
       "      <td>150</td>\n",
       "      <td>01/01/19 04:56</td>\n",
       "      <td>735 5th St, New York City, NY 10001</td>\n",
       "    </tr>\n",
       "    <tr>\n",
       "      <th>9161</th>\n",
       "      <td>149964</td>\n",
       "      <td>AAA Batteries (4-pack)</td>\n",
       "      <td>1</td>\n",
       "      <td>2.99</td>\n",
       "      <td>01/01/19 05:53</td>\n",
       "      <td>75 Jackson St, Dallas, TX 75001</td>\n",
       "    </tr>\n",
       "    <tr>\n",
       "      <th>8514</th>\n",
       "      <td>149350</td>\n",
       "      <td>USB-C Charging Cable</td>\n",
       "      <td>2</td>\n",
       "      <td>11.95</td>\n",
       "      <td>01/01/19 06:03</td>\n",
       "      <td>943 2nd St, Atlanta, GA 30301</td>\n",
       "    </tr>\n",
       "    <tr>\n",
       "      <th>...</th>\n",
       "      <td>...</td>\n",
       "      <td>...</td>\n",
       "      <td>...</td>\n",
       "      <td>...</td>\n",
       "      <td>...</td>\n",
       "      <td>...</td>\n",
       "    </tr>\n",
       "    <tr>\n",
       "      <th>10012</th>\n",
       "      <td>NaN</td>\n",
       "      <td>NaN</td>\n",
       "      <td>NaN</td>\n",
       "      <td>NaN</td>\n",
       "      <td>NaN</td>\n",
       "      <td>NaN</td>\n",
       "    </tr>\n",
       "    <tr>\n",
       "      <th>10274</th>\n",
       "      <td>NaN</td>\n",
       "      <td>NaN</td>\n",
       "      <td>NaN</td>\n",
       "      <td>NaN</td>\n",
       "      <td>NaN</td>\n",
       "      <td>NaN</td>\n",
       "    </tr>\n",
       "    <tr>\n",
       "      <th>10878</th>\n",
       "      <td>NaN</td>\n",
       "      <td>NaN</td>\n",
       "      <td>NaN</td>\n",
       "      <td>NaN</td>\n",
       "      <td>NaN</td>\n",
       "      <td>NaN</td>\n",
       "    </tr>\n",
       "    <tr>\n",
       "      <th>11384</th>\n",
       "      <td>NaN</td>\n",
       "      <td>NaN</td>\n",
       "      <td>NaN</td>\n",
       "      <td>NaN</td>\n",
       "      <td>NaN</td>\n",
       "      <td>NaN</td>\n",
       "    </tr>\n",
       "    <tr>\n",
       "      <th>11662</th>\n",
       "      <td>NaN</td>\n",
       "      <td>NaN</td>\n",
       "      <td>NaN</td>\n",
       "      <td>NaN</td>\n",
       "      <td>NaN</td>\n",
       "      <td>NaN</td>\n",
       "    </tr>\n",
       "  </tbody>\n",
       "</table>\n",
       "<p>186850 rows × 6 columns</p>\n",
       "</div>"
      ],
      "text/plain": [
       "      Order ID                   Product Quantity Ordered Price Each  \\\n",
       "6344    147268          Wired Headphones                1      11.99   \n",
       "7154    148041      USB-C Charging Cable                1      11.95   \n",
       "8507    149343  Apple Airpods Headphones                1        150   \n",
       "9161    149964    AAA Batteries (4-pack)                1       2.99   \n",
       "8514    149350      USB-C Charging Cable                2      11.95   \n",
       "...        ...                       ...              ...        ...   \n",
       "10012      NaN                       NaN              NaN        NaN   \n",
       "10274      NaN                       NaN              NaN        NaN   \n",
       "10878      NaN                       NaN              NaN        NaN   \n",
       "11384      NaN                       NaN              NaN        NaN   \n",
       "11662      NaN                       NaN              NaN        NaN   \n",
       "\n",
       "           Order Date                        Purchase Address  \n",
       "6344   01/01/19 03:07      9 Lake St, New York City, NY 10001  \n",
       "7154   01/01/19 03:40  760 Church St, San Francisco, CA 94016  \n",
       "8507   01/01/19 04:56     735 5th St, New York City, NY 10001  \n",
       "9161   01/01/19 05:53         75 Jackson St, Dallas, TX 75001  \n",
       "8514   01/01/19 06:03           943 2nd St, Atlanta, GA 30301  \n",
       "...               ...                                     ...  \n",
       "10012             NaN                                     NaN  \n",
       "10274             NaN                                     NaN  \n",
       "10878             NaN                                     NaN  \n",
       "11384             NaN                                     NaN  \n",
       "11662             NaN                                     NaN  \n",
       "\n",
       "[186850 rows x 6 columns]"
      ]
     },
     "execution_count": 14,
     "metadata": {},
     "output_type": "execute_result"
    }
   ],
   "source": [
    "all_months_data.sort_values(by = 'Order Date')"
   ]
  },
  {
   "cell_type": "markdown",
   "id": "f8a9c98b",
   "metadata": {},
   "source": [
    " ### Read in updated dataframe"
   ]
  },
  {
   "cell_type": "code",
   "execution_count": 15,
   "id": "bb81c1c6",
   "metadata": {},
   "outputs": [],
   "source": [
    "all_data = pd.read_csv('All_Sales.csv')"
   ]
  },
  {
   "cell_type": "code",
   "execution_count": 16,
   "id": "f07ecb12",
   "metadata": {},
   "outputs": [
    {
     "data": {
      "text/html": [
       "<div>\n",
       "<style scoped>\n",
       "    .dataframe tbody tr th:only-of-type {\n",
       "        vertical-align: middle;\n",
       "    }\n",
       "\n",
       "    .dataframe tbody tr th {\n",
       "        vertical-align: top;\n",
       "    }\n",
       "\n",
       "    .dataframe thead th {\n",
       "        text-align: right;\n",
       "    }\n",
       "</style>\n",
       "<table border=\"1\" class=\"dataframe\">\n",
       "  <thead>\n",
       "    <tr style=\"text-align: right;\">\n",
       "      <th></th>\n",
       "      <th>Order ID</th>\n",
       "      <th>Product</th>\n",
       "      <th>Quantity Ordered</th>\n",
       "      <th>Price Each</th>\n",
       "      <th>Order Date</th>\n",
       "      <th>Purchase Address</th>\n",
       "    </tr>\n",
       "  </thead>\n",
       "  <tbody>\n",
       "    <tr>\n",
       "      <th>0</th>\n",
       "      <td>176558</td>\n",
       "      <td>USB-C Charging Cable</td>\n",
       "      <td>2</td>\n",
       "      <td>11.95</td>\n",
       "      <td>04/19/19 08:46</td>\n",
       "      <td>917 1st St, Dallas, TX 75001</td>\n",
       "    </tr>\n",
       "    <tr>\n",
       "      <th>1</th>\n",
       "      <td>NaN</td>\n",
       "      <td>NaN</td>\n",
       "      <td>NaN</td>\n",
       "      <td>NaN</td>\n",
       "      <td>NaN</td>\n",
       "      <td>NaN</td>\n",
       "    </tr>\n",
       "    <tr>\n",
       "      <th>2</th>\n",
       "      <td>176559</td>\n",
       "      <td>Bose SoundSport Headphones</td>\n",
       "      <td>1</td>\n",
       "      <td>99.99</td>\n",
       "      <td>04/07/19 22:30</td>\n",
       "      <td>682 Chestnut St, Boston, MA 02215</td>\n",
       "    </tr>\n",
       "    <tr>\n",
       "      <th>3</th>\n",
       "      <td>176560</td>\n",
       "      <td>Google Phone</td>\n",
       "      <td>1</td>\n",
       "      <td>600</td>\n",
       "      <td>04/12/19 14:38</td>\n",
       "      <td>669 Spruce St, Los Angeles, CA 90001</td>\n",
       "    </tr>\n",
       "    <tr>\n",
       "      <th>4</th>\n",
       "      <td>176560</td>\n",
       "      <td>Wired Headphones</td>\n",
       "      <td>1</td>\n",
       "      <td>11.99</td>\n",
       "      <td>04/12/19 14:38</td>\n",
       "      <td>669 Spruce St, Los Angeles, CA 90001</td>\n",
       "    </tr>\n",
       "  </tbody>\n",
       "</table>\n",
       "</div>"
      ],
      "text/plain": [
       "  Order ID                     Product Quantity Ordered Price Each  \\\n",
       "0   176558        USB-C Charging Cable                2      11.95   \n",
       "1      NaN                         NaN              NaN        NaN   \n",
       "2   176559  Bose SoundSport Headphones                1      99.99   \n",
       "3   176560                Google Phone                1        600   \n",
       "4   176560            Wired Headphones                1      11.99   \n",
       "\n",
       "       Order Date                      Purchase Address  \n",
       "0  04/19/19 08:46          917 1st St, Dallas, TX 75001  \n",
       "1             NaN                                   NaN  \n",
       "2  04/07/19 22:30     682 Chestnut St, Boston, MA 02215  \n",
       "3  04/12/19 14:38  669 Spruce St, Los Angeles, CA 90001  \n",
       "4  04/12/19 14:38  669 Spruce St, Los Angeles, CA 90001  "
      ]
     },
     "execution_count": 16,
     "metadata": {},
     "output_type": "execute_result"
    }
   ],
   "source": [
    "all_data.head()"
   ]
  },
  {
   "cell_type": "code",
   "execution_count": null,
   "id": "9d80ba9a",
   "metadata": {},
   "outputs": [],
   "source": []
  },
  {
   "cell_type": "markdown",
   "id": "03c8ae1e",
   "metadata": {},
   "source": [
    "### Task 2 : Clean up data !"
   ]
  },
  {
   "cell_type": "markdown",
   "id": "0b1945a2",
   "metadata": {},
   "source": [
    "### I. Drop NAN"
   ]
  },
  {
   "cell_type": "code",
   "execution_count": 17,
   "id": "52c8fb79",
   "metadata": {},
   "outputs": [],
   "source": [
    "nan_df = all_data[all_data.isna().any(axis = 1)]"
   ]
  },
  {
   "cell_type": "code",
   "execution_count": 18,
   "id": "7e2ab344",
   "metadata": {},
   "outputs": [
    {
     "data": {
      "text/html": [
       "<div>\n",
       "<style scoped>\n",
       "    .dataframe tbody tr th:only-of-type {\n",
       "        vertical-align: middle;\n",
       "    }\n",
       "\n",
       "    .dataframe tbody tr th {\n",
       "        vertical-align: top;\n",
       "    }\n",
       "\n",
       "    .dataframe thead th {\n",
       "        text-align: right;\n",
       "    }\n",
       "</style>\n",
       "<table border=\"1\" class=\"dataframe\">\n",
       "  <thead>\n",
       "    <tr style=\"text-align: right;\">\n",
       "      <th></th>\n",
       "      <th>Order ID</th>\n",
       "      <th>Product</th>\n",
       "      <th>Quantity Ordered</th>\n",
       "      <th>Price Each</th>\n",
       "      <th>Order Date</th>\n",
       "      <th>Purchase Address</th>\n",
       "    </tr>\n",
       "  </thead>\n",
       "  <tbody>\n",
       "    <tr>\n",
       "      <th>1</th>\n",
       "      <td>NaN</td>\n",
       "      <td>NaN</td>\n",
       "      <td>NaN</td>\n",
       "      <td>NaN</td>\n",
       "      <td>NaN</td>\n",
       "      <td>NaN</td>\n",
       "    </tr>\n",
       "    <tr>\n",
       "      <th>356</th>\n",
       "      <td>NaN</td>\n",
       "      <td>NaN</td>\n",
       "      <td>NaN</td>\n",
       "      <td>NaN</td>\n",
       "      <td>NaN</td>\n",
       "      <td>NaN</td>\n",
       "    </tr>\n",
       "    <tr>\n",
       "      <th>735</th>\n",
       "      <td>NaN</td>\n",
       "      <td>NaN</td>\n",
       "      <td>NaN</td>\n",
       "      <td>NaN</td>\n",
       "      <td>NaN</td>\n",
       "      <td>NaN</td>\n",
       "    </tr>\n",
       "    <tr>\n",
       "      <th>1433</th>\n",
       "      <td>NaN</td>\n",
       "      <td>NaN</td>\n",
       "      <td>NaN</td>\n",
       "      <td>NaN</td>\n",
       "      <td>NaN</td>\n",
       "      <td>NaN</td>\n",
       "    </tr>\n",
       "    <tr>\n",
       "      <th>1553</th>\n",
       "      <td>NaN</td>\n",
       "      <td>NaN</td>\n",
       "      <td>NaN</td>\n",
       "      <td>NaN</td>\n",
       "      <td>NaN</td>\n",
       "      <td>NaN</td>\n",
       "    </tr>\n",
       "  </tbody>\n",
       "</table>\n",
       "</div>"
      ],
      "text/plain": [
       "     Order ID Product Quantity Ordered Price Each Order Date Purchase Address\n",
       "1         NaN     NaN              NaN        NaN        NaN              NaN\n",
       "356       NaN     NaN              NaN        NaN        NaN              NaN\n",
       "735       NaN     NaN              NaN        NaN        NaN              NaN\n",
       "1433      NaN     NaN              NaN        NaN        NaN              NaN\n",
       "1553      NaN     NaN              NaN        NaN        NaN              NaN"
      ]
     },
     "execution_count": 18,
     "metadata": {},
     "output_type": "execute_result"
    }
   ],
   "source": [
    "nan_df.head()"
   ]
  },
  {
   "cell_type": "code",
   "execution_count": 19,
   "id": "d745061a",
   "metadata": {},
   "outputs": [],
   "source": [
    "all_data = all_data.dropna(how = 'all')"
   ]
  },
  {
   "cell_type": "code",
   "execution_count": 20,
   "id": "1b1eb066",
   "metadata": {},
   "outputs": [
    {
     "data": {
      "text/html": [
       "<div>\n",
       "<style scoped>\n",
       "    .dataframe tbody tr th:only-of-type {\n",
       "        vertical-align: middle;\n",
       "    }\n",
       "\n",
       "    .dataframe tbody tr th {\n",
       "        vertical-align: top;\n",
       "    }\n",
       "\n",
       "    .dataframe thead th {\n",
       "        text-align: right;\n",
       "    }\n",
       "</style>\n",
       "<table border=\"1\" class=\"dataframe\">\n",
       "  <thead>\n",
       "    <tr style=\"text-align: right;\">\n",
       "      <th></th>\n",
       "      <th>Order ID</th>\n",
       "      <th>Product</th>\n",
       "      <th>Quantity Ordered</th>\n",
       "      <th>Price Each</th>\n",
       "      <th>Order Date</th>\n",
       "      <th>Purchase Address</th>\n",
       "    </tr>\n",
       "  </thead>\n",
       "  <tbody>\n",
       "    <tr>\n",
       "      <th>0</th>\n",
       "      <td>176558</td>\n",
       "      <td>USB-C Charging Cable</td>\n",
       "      <td>2</td>\n",
       "      <td>11.95</td>\n",
       "      <td>04/19/19 08:46</td>\n",
       "      <td>917 1st St, Dallas, TX 75001</td>\n",
       "    </tr>\n",
       "    <tr>\n",
       "      <th>2</th>\n",
       "      <td>176559</td>\n",
       "      <td>Bose SoundSport Headphones</td>\n",
       "      <td>1</td>\n",
       "      <td>99.99</td>\n",
       "      <td>04/07/19 22:30</td>\n",
       "      <td>682 Chestnut St, Boston, MA 02215</td>\n",
       "    </tr>\n",
       "    <tr>\n",
       "      <th>3</th>\n",
       "      <td>176560</td>\n",
       "      <td>Google Phone</td>\n",
       "      <td>1</td>\n",
       "      <td>600</td>\n",
       "      <td>04/12/19 14:38</td>\n",
       "      <td>669 Spruce St, Los Angeles, CA 90001</td>\n",
       "    </tr>\n",
       "    <tr>\n",
       "      <th>4</th>\n",
       "      <td>176560</td>\n",
       "      <td>Wired Headphones</td>\n",
       "      <td>1</td>\n",
       "      <td>11.99</td>\n",
       "      <td>04/12/19 14:38</td>\n",
       "      <td>669 Spruce St, Los Angeles, CA 90001</td>\n",
       "    </tr>\n",
       "    <tr>\n",
       "      <th>5</th>\n",
       "      <td>176561</td>\n",
       "      <td>Wired Headphones</td>\n",
       "      <td>1</td>\n",
       "      <td>11.99</td>\n",
       "      <td>04/30/19 09:27</td>\n",
       "      <td>333 8th St, Los Angeles, CA 90001</td>\n",
       "    </tr>\n",
       "  </tbody>\n",
       "</table>\n",
       "</div>"
      ],
      "text/plain": [
       "  Order ID                     Product Quantity Ordered Price Each  \\\n",
       "0   176558        USB-C Charging Cable                2      11.95   \n",
       "2   176559  Bose SoundSport Headphones                1      99.99   \n",
       "3   176560                Google Phone                1        600   \n",
       "4   176560            Wired Headphones                1      11.99   \n",
       "5   176561            Wired Headphones                1      11.99   \n",
       "\n",
       "       Order Date                      Purchase Address  \n",
       "0  04/19/19 08:46          917 1st St, Dallas, TX 75001  \n",
       "2  04/07/19 22:30     682 Chestnut St, Boston, MA 02215  \n",
       "3  04/12/19 14:38  669 Spruce St, Los Angeles, CA 90001  \n",
       "4  04/12/19 14:38  669 Spruce St, Los Angeles, CA 90001  \n",
       "5  04/30/19 09:27     333 8th St, Los Angeles, CA 90001  "
      ]
     },
     "execution_count": 20,
     "metadata": {},
     "output_type": "execute_result"
    }
   ],
   "source": [
    "all_data.head()"
   ]
  },
  {
   "cell_type": "code",
   "execution_count": 21,
   "id": "8153d1e5",
   "metadata": {},
   "outputs": [
    {
     "data": {
      "text/plain": [
       "(186305, 6)"
      ]
     },
     "execution_count": 21,
     "metadata": {},
     "output_type": "execute_result"
    }
   ],
   "source": [
    "all_data.shape"
   ]
  },
  {
   "cell_type": "markdown",
   "id": "7c473f41",
   "metadata": {},
   "source": [
    "### II. Find 'Or' and delete it"
   ]
  },
  {
   "cell_type": "code",
   "execution_count": 22,
   "id": "4b9cc4ce",
   "metadata": {},
   "outputs": [],
   "source": [
    "temp = all_data[all_data['Order Date'].str[0:2] == 'Or']"
   ]
  },
  {
   "cell_type": "code",
   "execution_count": 23,
   "id": "69778895",
   "metadata": {},
   "outputs": [
    {
     "data": {
      "text/html": [
       "<div>\n",
       "<style scoped>\n",
       "    .dataframe tbody tr th:only-of-type {\n",
       "        vertical-align: middle;\n",
       "    }\n",
       "\n",
       "    .dataframe tbody tr th {\n",
       "        vertical-align: top;\n",
       "    }\n",
       "\n",
       "    .dataframe thead th {\n",
       "        text-align: right;\n",
       "    }\n",
       "</style>\n",
       "<table border=\"1\" class=\"dataframe\">\n",
       "  <thead>\n",
       "    <tr style=\"text-align: right;\">\n",
       "      <th></th>\n",
       "      <th>Order ID</th>\n",
       "      <th>Product</th>\n",
       "      <th>Quantity Ordered</th>\n",
       "      <th>Price Each</th>\n",
       "      <th>Order Date</th>\n",
       "      <th>Purchase Address</th>\n",
       "    </tr>\n",
       "  </thead>\n",
       "  <tbody>\n",
       "    <tr>\n",
       "      <th>519</th>\n",
       "      <td>Order ID</td>\n",
       "      <td>Product</td>\n",
       "      <td>Quantity Ordered</td>\n",
       "      <td>Price Each</td>\n",
       "      <td>Order Date</td>\n",
       "      <td>Purchase Address</td>\n",
       "    </tr>\n",
       "    <tr>\n",
       "      <th>1149</th>\n",
       "      <td>Order ID</td>\n",
       "      <td>Product</td>\n",
       "      <td>Quantity Ordered</td>\n",
       "      <td>Price Each</td>\n",
       "      <td>Order Date</td>\n",
       "      <td>Purchase Address</td>\n",
       "    </tr>\n",
       "    <tr>\n",
       "      <th>1155</th>\n",
       "      <td>Order ID</td>\n",
       "      <td>Product</td>\n",
       "      <td>Quantity Ordered</td>\n",
       "      <td>Price Each</td>\n",
       "      <td>Order Date</td>\n",
       "      <td>Purchase Address</td>\n",
       "    </tr>\n",
       "    <tr>\n",
       "      <th>2878</th>\n",
       "      <td>Order ID</td>\n",
       "      <td>Product</td>\n",
       "      <td>Quantity Ordered</td>\n",
       "      <td>Price Each</td>\n",
       "      <td>Order Date</td>\n",
       "      <td>Purchase Address</td>\n",
       "    </tr>\n",
       "    <tr>\n",
       "      <th>2893</th>\n",
       "      <td>Order ID</td>\n",
       "      <td>Product</td>\n",
       "      <td>Quantity Ordered</td>\n",
       "      <td>Price Each</td>\n",
       "      <td>Order Date</td>\n",
       "      <td>Purchase Address</td>\n",
       "    </tr>\n",
       "  </tbody>\n",
       "</table>\n",
       "</div>"
      ],
      "text/plain": [
       "      Order ID  Product  Quantity Ordered  Price Each  Order Date  \\\n",
       "519   Order ID  Product  Quantity Ordered  Price Each  Order Date   \n",
       "1149  Order ID  Product  Quantity Ordered  Price Each  Order Date   \n",
       "1155  Order ID  Product  Quantity Ordered  Price Each  Order Date   \n",
       "2878  Order ID  Product  Quantity Ordered  Price Each  Order Date   \n",
       "2893  Order ID  Product  Quantity Ordered  Price Each  Order Date   \n",
       "\n",
       "      Purchase Address  \n",
       "519   Purchase Address  \n",
       "1149  Purchase Address  \n",
       "1155  Purchase Address  \n",
       "2878  Purchase Address  \n",
       "2893  Purchase Address  "
      ]
     },
     "execution_count": 23,
     "metadata": {},
     "output_type": "execute_result"
    }
   ],
   "source": [
    "temp.head()"
   ]
  },
  {
   "cell_type": "code",
   "execution_count": 24,
   "id": "0421b198",
   "metadata": {},
   "outputs": [],
   "source": [
    "all_data = all_data[all_data['Order Date'].str[0:2] != 'Or']"
   ]
  },
  {
   "cell_type": "code",
   "execution_count": 25,
   "id": "5b0e933a",
   "metadata": {},
   "outputs": [
    {
     "data": {
      "text/html": [
       "<div>\n",
       "<style scoped>\n",
       "    .dataframe tbody tr th:only-of-type {\n",
       "        vertical-align: middle;\n",
       "    }\n",
       "\n",
       "    .dataframe tbody tr th {\n",
       "        vertical-align: top;\n",
       "    }\n",
       "\n",
       "    .dataframe thead th {\n",
       "        text-align: right;\n",
       "    }\n",
       "</style>\n",
       "<table border=\"1\" class=\"dataframe\">\n",
       "  <thead>\n",
       "    <tr style=\"text-align: right;\">\n",
       "      <th></th>\n",
       "      <th>Order ID</th>\n",
       "      <th>Product</th>\n",
       "      <th>Quantity Ordered</th>\n",
       "      <th>Price Each</th>\n",
       "      <th>Order Date</th>\n",
       "      <th>Purchase Address</th>\n",
       "    </tr>\n",
       "  </thead>\n",
       "  <tbody>\n",
       "    <tr>\n",
       "      <th>0</th>\n",
       "      <td>176558</td>\n",
       "      <td>USB-C Charging Cable</td>\n",
       "      <td>2</td>\n",
       "      <td>11.95</td>\n",
       "      <td>04/19/19 08:46</td>\n",
       "      <td>917 1st St, Dallas, TX 75001</td>\n",
       "    </tr>\n",
       "    <tr>\n",
       "      <th>2</th>\n",
       "      <td>176559</td>\n",
       "      <td>Bose SoundSport Headphones</td>\n",
       "      <td>1</td>\n",
       "      <td>99.99</td>\n",
       "      <td>04/07/19 22:30</td>\n",
       "      <td>682 Chestnut St, Boston, MA 02215</td>\n",
       "    </tr>\n",
       "    <tr>\n",
       "      <th>3</th>\n",
       "      <td>176560</td>\n",
       "      <td>Google Phone</td>\n",
       "      <td>1</td>\n",
       "      <td>600</td>\n",
       "      <td>04/12/19 14:38</td>\n",
       "      <td>669 Spruce St, Los Angeles, CA 90001</td>\n",
       "    </tr>\n",
       "    <tr>\n",
       "      <th>4</th>\n",
       "      <td>176560</td>\n",
       "      <td>Wired Headphones</td>\n",
       "      <td>1</td>\n",
       "      <td>11.99</td>\n",
       "      <td>04/12/19 14:38</td>\n",
       "      <td>669 Spruce St, Los Angeles, CA 90001</td>\n",
       "    </tr>\n",
       "    <tr>\n",
       "      <th>5</th>\n",
       "      <td>176561</td>\n",
       "      <td>Wired Headphones</td>\n",
       "      <td>1</td>\n",
       "      <td>11.99</td>\n",
       "      <td>04/30/19 09:27</td>\n",
       "      <td>333 8th St, Los Angeles, CA 90001</td>\n",
       "    </tr>\n",
       "  </tbody>\n",
       "</table>\n",
       "</div>"
      ],
      "text/plain": [
       "  Order ID                     Product Quantity Ordered Price Each  \\\n",
       "0   176558        USB-C Charging Cable                2      11.95   \n",
       "2   176559  Bose SoundSport Headphones                1      99.99   \n",
       "3   176560                Google Phone                1        600   \n",
       "4   176560            Wired Headphones                1      11.99   \n",
       "5   176561            Wired Headphones                1      11.99   \n",
       "\n",
       "       Order Date                      Purchase Address  \n",
       "0  04/19/19 08:46          917 1st St, Dallas, TX 75001  \n",
       "2  04/07/19 22:30     682 Chestnut St, Boston, MA 02215  \n",
       "3  04/12/19 14:38  669 Spruce St, Los Angeles, CA 90001  \n",
       "4  04/12/19 14:38  669 Spruce St, Los Angeles, CA 90001  \n",
       "5  04/30/19 09:27     333 8th St, Los Angeles, CA 90001  "
      ]
     },
     "execution_count": 25,
     "metadata": {},
     "output_type": "execute_result"
    }
   ],
   "source": [
    "all_data.head()"
   ]
  },
  {
   "cell_type": "code",
   "execution_count": 26,
   "id": "6d14895b",
   "metadata": {},
   "outputs": [
    {
     "data": {
      "text/plain": [
       "(185950, 6)"
      ]
     },
     "execution_count": 26,
     "metadata": {},
     "output_type": "execute_result"
    }
   ],
   "source": [
    "all_data.shape"
   ]
  },
  {
   "cell_type": "code",
   "execution_count": null,
   "id": "45e55cf0",
   "metadata": {},
   "outputs": [],
   "source": []
  },
  {
   "cell_type": "markdown",
   "id": "cb84ffd7",
   "metadata": {},
   "source": [
    "### Task3.1 : Augment data with additional columns - Month & Amount"
   ]
  },
  {
   "cell_type": "code",
   "execution_count": 27,
   "id": "e408cb55",
   "metadata": {},
   "outputs": [],
   "source": [
    "all_data['Month'] = all_data['Order Date'].str[0:2]"
   ]
  },
  {
   "cell_type": "code",
   "execution_count": 28,
   "id": "10d9b191",
   "metadata": {},
   "outputs": [],
   "source": [
    "all_data['Month'] = all_data['Month'].astype('int32')"
   ]
  },
  {
   "cell_type": "code",
   "execution_count": 29,
   "id": "b8480c8e",
   "metadata": {},
   "outputs": [
    {
     "data": {
      "text/html": [
       "<div>\n",
       "<style scoped>\n",
       "    .dataframe tbody tr th:only-of-type {\n",
       "        vertical-align: middle;\n",
       "    }\n",
       "\n",
       "    .dataframe tbody tr th {\n",
       "        vertical-align: top;\n",
       "    }\n",
       "\n",
       "    .dataframe thead th {\n",
       "        text-align: right;\n",
       "    }\n",
       "</style>\n",
       "<table border=\"1\" class=\"dataframe\">\n",
       "  <thead>\n",
       "    <tr style=\"text-align: right;\">\n",
       "      <th></th>\n",
       "      <th>Order ID</th>\n",
       "      <th>Product</th>\n",
       "      <th>Quantity Ordered</th>\n",
       "      <th>Price Each</th>\n",
       "      <th>Order Date</th>\n",
       "      <th>Purchase Address</th>\n",
       "      <th>Month</th>\n",
       "    </tr>\n",
       "  </thead>\n",
       "  <tbody>\n",
       "    <tr>\n",
       "      <th>0</th>\n",
       "      <td>176558</td>\n",
       "      <td>USB-C Charging Cable</td>\n",
       "      <td>2</td>\n",
       "      <td>11.95</td>\n",
       "      <td>04/19/19 08:46</td>\n",
       "      <td>917 1st St, Dallas, TX 75001</td>\n",
       "      <td>4</td>\n",
       "    </tr>\n",
       "    <tr>\n",
       "      <th>2</th>\n",
       "      <td>176559</td>\n",
       "      <td>Bose SoundSport Headphones</td>\n",
       "      <td>1</td>\n",
       "      <td>99.99</td>\n",
       "      <td>04/07/19 22:30</td>\n",
       "      <td>682 Chestnut St, Boston, MA 02215</td>\n",
       "      <td>4</td>\n",
       "    </tr>\n",
       "    <tr>\n",
       "      <th>3</th>\n",
       "      <td>176560</td>\n",
       "      <td>Google Phone</td>\n",
       "      <td>1</td>\n",
       "      <td>600</td>\n",
       "      <td>04/12/19 14:38</td>\n",
       "      <td>669 Spruce St, Los Angeles, CA 90001</td>\n",
       "      <td>4</td>\n",
       "    </tr>\n",
       "    <tr>\n",
       "      <th>4</th>\n",
       "      <td>176560</td>\n",
       "      <td>Wired Headphones</td>\n",
       "      <td>1</td>\n",
       "      <td>11.99</td>\n",
       "      <td>04/12/19 14:38</td>\n",
       "      <td>669 Spruce St, Los Angeles, CA 90001</td>\n",
       "      <td>4</td>\n",
       "    </tr>\n",
       "    <tr>\n",
       "      <th>5</th>\n",
       "      <td>176561</td>\n",
       "      <td>Wired Headphones</td>\n",
       "      <td>1</td>\n",
       "      <td>11.99</td>\n",
       "      <td>04/30/19 09:27</td>\n",
       "      <td>333 8th St, Los Angeles, CA 90001</td>\n",
       "      <td>4</td>\n",
       "    </tr>\n",
       "  </tbody>\n",
       "</table>\n",
       "</div>"
      ],
      "text/plain": [
       "  Order ID                     Product Quantity Ordered Price Each  \\\n",
       "0   176558        USB-C Charging Cable                2      11.95   \n",
       "2   176559  Bose SoundSport Headphones                1      99.99   \n",
       "3   176560                Google Phone                1        600   \n",
       "4   176560            Wired Headphones                1      11.99   \n",
       "5   176561            Wired Headphones                1      11.99   \n",
       "\n",
       "       Order Date                      Purchase Address  Month  \n",
       "0  04/19/19 08:46          917 1st St, Dallas, TX 75001      4  \n",
       "2  04/07/19 22:30     682 Chestnut St, Boston, MA 02215      4  \n",
       "3  04/12/19 14:38  669 Spruce St, Los Angeles, CA 90001      4  \n",
       "4  04/12/19 14:38  669 Spruce St, Los Angeles, CA 90001      4  \n",
       "5  04/30/19 09:27     333 8th St, Los Angeles, CA 90001      4  "
      ]
     },
     "execution_count": 29,
     "metadata": {},
     "output_type": "execute_result"
    }
   ],
   "source": [
    "all_data.head()"
   ]
  },
  {
   "cell_type": "code",
   "execution_count": 30,
   "id": "830f3462",
   "metadata": {},
   "outputs": [
    {
     "name": "stdout",
     "output_type": "stream",
     "text": [
      "Quantity Ordered    object\n",
      "Price Each          object\n",
      "dtype: object\n"
     ]
    }
   ],
   "source": [
    "print(all_data[['Quantity Ordered', 'Price Each']].dtypes)"
   ]
  },
  {
   "cell_type": "code",
   "execution_count": 31,
   "id": "444549ae",
   "metadata": {},
   "outputs": [],
   "source": [
    "all_data['Amount'] = all_data['Quantity Ordered'].astype('int32') * all_data['Price Each'].astype('float32')"
   ]
  },
  {
   "cell_type": "code",
   "execution_count": 62,
   "id": "ad5db83a",
   "metadata": {},
   "outputs": [
    {
     "data": {
      "text/html": [
       "<div>\n",
       "<style scoped>\n",
       "    .dataframe tbody tr th:only-of-type {\n",
       "        vertical-align: middle;\n",
       "    }\n",
       "\n",
       "    .dataframe tbody tr th {\n",
       "        vertical-align: top;\n",
       "    }\n",
       "\n",
       "    .dataframe thead th {\n",
       "        text-align: right;\n",
       "    }\n",
       "</style>\n",
       "<table border=\"1\" class=\"dataframe\">\n",
       "  <thead>\n",
       "    <tr style=\"text-align: right;\">\n",
       "      <th></th>\n",
       "      <th>Order ID</th>\n",
       "      <th>Product</th>\n",
       "      <th>Quantity Ordered</th>\n",
       "      <th>Price Each</th>\n",
       "      <th>Order Date</th>\n",
       "      <th>Purchase Address</th>\n",
       "      <th>Month</th>\n",
       "      <th>Amount</th>\n",
       "      <th>Split Address</th>\n",
       "      <th>City</th>\n",
       "    </tr>\n",
       "  </thead>\n",
       "  <tbody>\n",
       "    <tr>\n",
       "      <th>69397</th>\n",
       "      <td>142996</td>\n",
       "      <td>AAA Batteries (4-pack)</td>\n",
       "      <td>1</td>\n",
       "      <td>2.99</td>\n",
       "      <td>01/01/19 21:01</td>\n",
       "      <td>402 Chestnut St, Boston, MA 02215</td>\n",
       "      <td>1</td>\n",
       "      <td>2.99</td>\n",
       "      <td>[402 Chestnut St,  Boston,  MA 02215]</td>\n",
       "      <td>Boston</td>\n",
       "    </tr>\n",
       "    <tr>\n",
       "      <th>70773</th>\n",
       "      <td>144300</td>\n",
       "      <td>Apple Airpods Headphones</td>\n",
       "      <td>1</td>\n",
       "      <td>150</td>\n",
       "      <td>01/11/19 14:22</td>\n",
       "      <td>532 River St, San Francisco, CA 94016</td>\n",
       "      <td>1</td>\n",
       "      <td>150.00</td>\n",
       "      <td>[532 River St,  San Francisco,  CA 94016]</td>\n",
       "      <td>San Francisco</td>\n",
       "    </tr>\n",
       "    <tr>\n",
       "      <th>70772</th>\n",
       "      <td>144299</td>\n",
       "      <td>27in 4K Gaming Monitor</td>\n",
       "      <td>1</td>\n",
       "      <td>389.99</td>\n",
       "      <td>01/31/19 19:57</td>\n",
       "      <td>942 North St, San Francisco, CA 94016</td>\n",
       "      <td>1</td>\n",
       "      <td>389.99</td>\n",
       "      <td>[942 North St,  San Francisco,  CA 94016]</td>\n",
       "      <td>San Francisco</td>\n",
       "    </tr>\n",
       "    <tr>\n",
       "      <th>70771</th>\n",
       "      <td>144298</td>\n",
       "      <td>Lightning Charging Cable</td>\n",
       "      <td>1</td>\n",
       "      <td>14.95</td>\n",
       "      <td>01/13/19 12:00</td>\n",
       "      <td>709 North St, Los Angeles, CA 90001</td>\n",
       "      <td>1</td>\n",
       "      <td>14.95</td>\n",
       "      <td>[709 North St,  Los Angeles,  CA 90001]</td>\n",
       "      <td>Los Angeles</td>\n",
       "    </tr>\n",
       "    <tr>\n",
       "      <th>70770</th>\n",
       "      <td>144297</td>\n",
       "      <td>Flatscreen TV</td>\n",
       "      <td>1</td>\n",
       "      <td>300</td>\n",
       "      <td>01/21/19 14:37</td>\n",
       "      <td>437 Madison St, Atlanta, GA 30301</td>\n",
       "      <td>1</td>\n",
       "      <td>300.00</td>\n",
       "      <td>[437 Madison St,  Atlanta,  GA 30301]</td>\n",
       "      <td>Atlanta</td>\n",
       "    </tr>\n",
       "    <tr>\n",
       "      <th>...</th>\n",
       "      <td>...</td>\n",
       "      <td>...</td>\n",
       "      <td>...</td>\n",
       "      <td>...</td>\n",
       "      <td>...</td>\n",
       "      <td>...</td>\n",
       "      <td>...</td>\n",
       "      <td>...</td>\n",
       "      <td>...</td>\n",
       "      <td>...</td>\n",
       "    </tr>\n",
       "    <tr>\n",
       "      <th>47162</th>\n",
       "      <td>311693</td>\n",
       "      <td>27in FHD Monitor</td>\n",
       "      <td>1</td>\n",
       "      <td>149.99</td>\n",
       "      <td>12/06/19 18:05</td>\n",
       "      <td>594 9th St, Dallas, TX 75001</td>\n",
       "      <td>12</td>\n",
       "      <td>149.99</td>\n",
       "      <td>[594 9th St,  Dallas,  TX 75001]</td>\n",
       "      <td>Dallas</td>\n",
       "    </tr>\n",
       "    <tr>\n",
       "      <th>47163</th>\n",
       "      <td>311694</td>\n",
       "      <td>AAA Batteries (4-pack)</td>\n",
       "      <td>1</td>\n",
       "      <td>2.99</td>\n",
       "      <td>12/19/19 07:35</td>\n",
       "      <td>905 11th St, Atlanta, GA 30301</td>\n",
       "      <td>12</td>\n",
       "      <td>2.99</td>\n",
       "      <td>[905 11th St,  Atlanta,  GA 30301]</td>\n",
       "      <td>Atlanta</td>\n",
       "    </tr>\n",
       "    <tr>\n",
       "      <th>47164</th>\n",
       "      <td>311695</td>\n",
       "      <td>Wired Headphones</td>\n",
       "      <td>1</td>\n",
       "      <td>11.99</td>\n",
       "      <td>12/21/19 21:06</td>\n",
       "      <td>107 Lakeview St, San Francisco, CA 94016</td>\n",
       "      <td>12</td>\n",
       "      <td>11.99</td>\n",
       "      <td>[107 Lakeview St,  San Francisco,  CA 94016]</td>\n",
       "      <td>San Francisco</td>\n",
       "    </tr>\n",
       "    <tr>\n",
       "      <th>47142</th>\n",
       "      <td>311673</td>\n",
       "      <td>USB-C Charging Cable</td>\n",
       "      <td>1</td>\n",
       "      <td>11.95</td>\n",
       "      <td>12/26/19 22:24</td>\n",
       "      <td>169 Forest St, San Francisco, CA 94016</td>\n",
       "      <td>12</td>\n",
       "      <td>11.95</td>\n",
       "      <td>[169 Forest St,  San Francisco,  CA 94016]</td>\n",
       "      <td>San Francisco</td>\n",
       "    </tr>\n",
       "    <tr>\n",
       "      <th>43510</th>\n",
       "      <td>308183</td>\n",
       "      <td>Lightning Charging Cable</td>\n",
       "      <td>1</td>\n",
       "      <td>14.95</td>\n",
       "      <td>12/11/19 13:25</td>\n",
       "      <td>270 8th St, Los Angeles, CA 90001</td>\n",
       "      <td>12</td>\n",
       "      <td>14.95</td>\n",
       "      <td>[270 8th St,  Los Angeles,  CA 90001]</td>\n",
       "      <td>Los Angeles</td>\n",
       "    </tr>\n",
       "  </tbody>\n",
       "</table>\n",
       "<p>185950 rows × 10 columns</p>\n",
       "</div>"
      ],
      "text/plain": [
       "      Order ID                   Product Quantity Ordered Price Each  \\\n",
       "69397   142996    AAA Batteries (4-pack)                1       2.99   \n",
       "70773   144300  Apple Airpods Headphones                1        150   \n",
       "70772   144299    27in 4K Gaming Monitor                1     389.99   \n",
       "70771   144298  Lightning Charging Cable                1      14.95   \n",
       "70770   144297             Flatscreen TV                1        300   \n",
       "...        ...                       ...              ...        ...   \n",
       "47162   311693          27in FHD Monitor                1     149.99   \n",
       "47163   311694    AAA Batteries (4-pack)                1       2.99   \n",
       "47164   311695          Wired Headphones                1      11.99   \n",
       "47142   311673      USB-C Charging Cable                1      11.95   \n",
       "43510   308183  Lightning Charging Cable                1      14.95   \n",
       "\n",
       "           Order Date                          Purchase Address  Month  \\\n",
       "69397  01/01/19 21:01         402 Chestnut St, Boston, MA 02215      1   \n",
       "70773  01/11/19 14:22     532 River St, San Francisco, CA 94016      1   \n",
       "70772  01/31/19 19:57     942 North St, San Francisco, CA 94016      1   \n",
       "70771  01/13/19 12:00       709 North St, Los Angeles, CA 90001      1   \n",
       "70770  01/21/19 14:37         437 Madison St, Atlanta, GA 30301      1   \n",
       "...               ...                                       ...    ...   \n",
       "47162  12/06/19 18:05              594 9th St, Dallas, TX 75001     12   \n",
       "47163  12/19/19 07:35            905 11th St, Atlanta, GA 30301     12   \n",
       "47164  12/21/19 21:06  107 Lakeview St, San Francisco, CA 94016     12   \n",
       "47142  12/26/19 22:24    169 Forest St, San Francisco, CA 94016     12   \n",
       "43510  12/11/19 13:25         270 8th St, Los Angeles, CA 90001     12   \n",
       "\n",
       "       Amount                                 Split Address            City  \n",
       "69397    2.99         [402 Chestnut St,  Boston,  MA 02215]          Boston  \n",
       "70773  150.00     [532 River St,  San Francisco,  CA 94016]   San Francisco  \n",
       "70772  389.99     [942 North St,  San Francisco,  CA 94016]   San Francisco  \n",
       "70771   14.95       [709 North St,  Los Angeles,  CA 90001]     Los Angeles  \n",
       "70770  300.00         [437 Madison St,  Atlanta,  GA 30301]         Atlanta  \n",
       "...       ...                                           ...             ...  \n",
       "47162  149.99              [594 9th St,  Dallas,  TX 75001]          Dallas  \n",
       "47163    2.99            [905 11th St,  Atlanta,  GA 30301]         Atlanta  \n",
       "47164   11.99  [107 Lakeview St,  San Francisco,  CA 94016]   San Francisco  \n",
       "47142   11.95    [169 Forest St,  San Francisco,  CA 94016]   San Francisco  \n",
       "43510   14.95         [270 8th St,  Los Angeles,  CA 90001]     Los Angeles  \n",
       "\n",
       "[185950 rows x 10 columns]"
      ]
     },
     "execution_count": 62,
     "metadata": {},
     "output_type": "execute_result"
    }
   ],
   "source": [
    "all_data['Amount'] = all_data['Amount'].round(4)\n",
    "all_data.sort_values(by = 'Month')"
   ]
  },
  {
   "cell_type": "markdown",
   "id": "c138d5a9",
   "metadata": {},
   "source": [
    "### Task3.2 : Augment data with additional columns - City & State"
   ]
  },
  {
   "cell_type": "code",
   "execution_count": 93,
   "id": "34d32e4d",
   "metadata": {},
   "outputs": [],
   "source": [
    "all_data.drop(['City', 'Split Address'], axis = 1) \n",
    "\n",
    "def get_city(address):\n",
    "    return address.split(',')[1]  "
   ]
  },
  {
   "cell_type": "code",
   "execution_count": 92,
   "id": "a0931540",
   "metadata": {},
   "outputs": [],
   "source": [
    "def get_state(address):\n",
    "    return address.split(',')[2].split(' ')[1]"
   ]
  },
  {
   "cell_type": "code",
   "execution_count": 102,
   "id": "2778dafb",
   "metadata": {},
   "outputs": [],
   "source": [
    "all_data['City'] = all_data['Purchase Address'].apply(lambda x : get_city(x)+ ' ('+ get_state(x)+')')"
   ]
  },
  {
   "cell_type": "code",
   "execution_count": 103,
   "id": "5e03ccd4",
   "metadata": {},
   "outputs": [
    {
     "data": {
      "text/html": [
       "<div>\n",
       "<style scoped>\n",
       "    .dataframe tbody tr th:only-of-type {\n",
       "        vertical-align: middle;\n",
       "    }\n",
       "\n",
       "    .dataframe tbody tr th {\n",
       "        vertical-align: top;\n",
       "    }\n",
       "\n",
       "    .dataframe thead th {\n",
       "        text-align: right;\n",
       "    }\n",
       "</style>\n",
       "<table border=\"1\" class=\"dataframe\">\n",
       "  <thead>\n",
       "    <tr style=\"text-align: right;\">\n",
       "      <th></th>\n",
       "      <th>Order ID</th>\n",
       "      <th>Product</th>\n",
       "      <th>Quantity Ordered</th>\n",
       "      <th>Price Each</th>\n",
       "      <th>Order Date</th>\n",
       "      <th>Purchase Address</th>\n",
       "      <th>Month</th>\n",
       "      <th>Amount</th>\n",
       "      <th>Split Address</th>\n",
       "      <th>City</th>\n",
       "    </tr>\n",
       "  </thead>\n",
       "  <tbody>\n",
       "    <tr>\n",
       "      <th>0</th>\n",
       "      <td>176558</td>\n",
       "      <td>USB-C Charging Cable</td>\n",
       "      <td>2</td>\n",
       "      <td>11.95</td>\n",
       "      <td>04/19/19 08:46</td>\n",
       "      <td>917 1st St, Dallas, TX 75001</td>\n",
       "      <td>4</td>\n",
       "      <td>23.90</td>\n",
       "      <td>[917 1st St,  Dallas,  TX 75001]</td>\n",
       "      <td>Dallas (TX)</td>\n",
       "    </tr>\n",
       "    <tr>\n",
       "      <th>2</th>\n",
       "      <td>176559</td>\n",
       "      <td>Bose SoundSport Headphones</td>\n",
       "      <td>1</td>\n",
       "      <td>99.99</td>\n",
       "      <td>04/07/19 22:30</td>\n",
       "      <td>682 Chestnut St, Boston, MA 02215</td>\n",
       "      <td>4</td>\n",
       "      <td>99.99</td>\n",
       "      <td>[682 Chestnut St,  Boston,  MA 02215]</td>\n",
       "      <td>Boston (MA)</td>\n",
       "    </tr>\n",
       "    <tr>\n",
       "      <th>3</th>\n",
       "      <td>176560</td>\n",
       "      <td>Google Phone</td>\n",
       "      <td>1</td>\n",
       "      <td>600</td>\n",
       "      <td>04/12/19 14:38</td>\n",
       "      <td>669 Spruce St, Los Angeles, CA 90001</td>\n",
       "      <td>4</td>\n",
       "      <td>600.00</td>\n",
       "      <td>[669 Spruce St,  Los Angeles,  CA 90001]</td>\n",
       "      <td>Los Angeles (CA)</td>\n",
       "    </tr>\n",
       "    <tr>\n",
       "      <th>4</th>\n",
       "      <td>176560</td>\n",
       "      <td>Wired Headphones</td>\n",
       "      <td>1</td>\n",
       "      <td>11.99</td>\n",
       "      <td>04/12/19 14:38</td>\n",
       "      <td>669 Spruce St, Los Angeles, CA 90001</td>\n",
       "      <td>4</td>\n",
       "      <td>11.99</td>\n",
       "      <td>[669 Spruce St,  Los Angeles,  CA 90001]</td>\n",
       "      <td>Los Angeles (CA)</td>\n",
       "    </tr>\n",
       "    <tr>\n",
       "      <th>5</th>\n",
       "      <td>176561</td>\n",
       "      <td>Wired Headphones</td>\n",
       "      <td>1</td>\n",
       "      <td>11.99</td>\n",
       "      <td>04/30/19 09:27</td>\n",
       "      <td>333 8th St, Los Angeles, CA 90001</td>\n",
       "      <td>4</td>\n",
       "      <td>11.99</td>\n",
       "      <td>[333 8th St,  Los Angeles,  CA 90001]</td>\n",
       "      <td>Los Angeles (CA)</td>\n",
       "    </tr>\n",
       "  </tbody>\n",
       "</table>\n",
       "</div>"
      ],
      "text/plain": [
       "  Order ID                     Product Quantity Ordered Price Each  \\\n",
       "0   176558        USB-C Charging Cable                2      11.95   \n",
       "2   176559  Bose SoundSport Headphones                1      99.99   \n",
       "3   176560                Google Phone                1        600   \n",
       "4   176560            Wired Headphones                1      11.99   \n",
       "5   176561            Wired Headphones                1      11.99   \n",
       "\n",
       "       Order Date                      Purchase Address  Month  Amount  \\\n",
       "0  04/19/19 08:46          917 1st St, Dallas, TX 75001      4   23.90   \n",
       "2  04/07/19 22:30     682 Chestnut St, Boston, MA 02215      4   99.99   \n",
       "3  04/12/19 14:38  669 Spruce St, Los Angeles, CA 90001      4  600.00   \n",
       "4  04/12/19 14:38  669 Spruce St, Los Angeles, CA 90001      4   11.99   \n",
       "5  04/30/19 09:27     333 8th St, Los Angeles, CA 90001      4   11.99   \n",
       "\n",
       "                              Split Address               City  \n",
       "0          [917 1st St,  Dallas,  TX 75001]        Dallas (TX)  \n",
       "2     [682 Chestnut St,  Boston,  MA 02215]        Boston (MA)  \n",
       "3  [669 Spruce St,  Los Angeles,  CA 90001]   Los Angeles (CA)  \n",
       "4  [669 Spruce St,  Los Angeles,  CA 90001]   Los Angeles (CA)  \n",
       "5     [333 8th St,  Los Angeles,  CA 90001]   Los Angeles (CA)  "
      ]
     },
     "execution_count": 103,
     "metadata": {},
     "output_type": "execute_result"
    }
   ],
   "source": [
    "all_data.head()"
   ]
  },
  {
   "cell_type": "code",
   "execution_count": null,
   "id": "4ebe3583",
   "metadata": {},
   "outputs": [],
   "source": []
  },
  {
   "cell_type": "markdown",
   "id": "991bf27a",
   "metadata": {},
   "source": [
    "## Question 1 : What was the best month for sales ? How much was earned that month"
   ]
  },
  {
   "cell_type": "code",
   "execution_count": 37,
   "id": "f230a570",
   "metadata": {},
   "outputs": [],
   "source": [
    "results = all_data.groupby('Month').sum('Amount') "
   ]
  },
  {
   "cell_type": "code",
   "execution_count": 38,
   "id": "e6d70d21",
   "metadata": {},
   "outputs": [
    {
     "data": {
      "text/html": [
       "<div>\n",
       "<style scoped>\n",
       "    .dataframe tbody tr th:only-of-type {\n",
       "        vertical-align: middle;\n",
       "    }\n",
       "\n",
       "    .dataframe tbody tr th {\n",
       "        vertical-align: top;\n",
       "    }\n",
       "\n",
       "    .dataframe thead th {\n",
       "        text-align: right;\n",
       "    }\n",
       "</style>\n",
       "<table border=\"1\" class=\"dataframe\">\n",
       "  <thead>\n",
       "    <tr style=\"text-align: right;\">\n",
       "      <th></th>\n",
       "      <th>Amount</th>\n",
       "    </tr>\n",
       "    <tr>\n",
       "      <th>Month</th>\n",
       "      <th></th>\n",
       "    </tr>\n",
       "  </thead>\n",
       "  <tbody>\n",
       "    <tr>\n",
       "      <th>1</th>\n",
       "      <td>1822256.73</td>\n",
       "    </tr>\n",
       "    <tr>\n",
       "      <th>2</th>\n",
       "      <td>2202022.42</td>\n",
       "    </tr>\n",
       "    <tr>\n",
       "      <th>3</th>\n",
       "      <td>2807100.38</td>\n",
       "    </tr>\n",
       "    <tr>\n",
       "      <th>4</th>\n",
       "      <td>3390670.24</td>\n",
       "    </tr>\n",
       "    <tr>\n",
       "      <th>5</th>\n",
       "      <td>3152606.75</td>\n",
       "    </tr>\n",
       "  </tbody>\n",
       "</table>\n",
       "</div>"
      ],
      "text/plain": [
       "           Amount\n",
       "Month            \n",
       "1      1822256.73\n",
       "2      2202022.42\n",
       "3      2807100.38\n",
       "4      3390670.24\n",
       "5      3152606.75"
      ]
     },
     "execution_count": 38,
     "metadata": {},
     "output_type": "execute_result"
    }
   ],
   "source": [
    "results.head()"
   ]
  },
  {
   "cell_type": "code",
   "execution_count": 39,
   "id": "4cf6b327",
   "metadata": {},
   "outputs": [
    {
     "data": {
      "text/plain": [
       "Text(0.5, 0, 'Month number')"
      ]
     },
     "execution_count": 39,
     "metadata": {},
     "output_type": "execute_result"
    },
    {
     "data": {
      "image/png": "[encoded data removed]",
      "text/plain": [
       "<Figure size 640x480 with 1 Axes>"
      ]
     },
     "metadata": {},
     "output_type": "display_data"
    }
   ],
   "source": [
    "import matplotlib.pyplot as plt\n",
    "\n",
    "months = range(1,13)\n",
    "\n",
    "plt.bar(months,results['Amount'])\n",
    "plt.xticks(months)\n",
    "plt.ylabel('Sales in USD')\n",
    "plt.xlabel('Month number')"
   ]
  },
  {
   "cell_type": "markdown",
   "id": "5b637422",
   "metadata": {},
   "source": [
    "## Question 2 : What city has the highest number of sales ?"
   ]
  },
  {
   "cell_type": "code",
   "execution_count": 51,
   "id": "2635177d",
   "metadata": {},
   "outputs": [
    {
     "data": {
      "text/html": [
       "<div>\n",
       "<style scoped>\n",
       "    .dataframe tbody tr th:only-of-type {\n",
       "        vertical-align: middle;\n",
       "    }\n",
       "\n",
       "    .dataframe tbody tr th {\n",
       "        vertical-align: top;\n",
       "    }\n",
       "\n",
       "    .dataframe thead th {\n",
       "        text-align: right;\n",
       "    }\n",
       "</style>\n",
       "<table border=\"1\" class=\"dataframe\">\n",
       "  <thead>\n",
       "    <tr style=\"text-align: right;\">\n",
       "      <th></th>\n",
       "      <th>Order ID</th>\n",
       "      <th>Product</th>\n",
       "      <th>Quantity Ordered</th>\n",
       "      <th>Price Each</th>\n",
       "      <th>Order Date</th>\n",
       "      <th>Purchase Address</th>\n",
       "      <th>Month</th>\n",
       "      <th>Amount</th>\n",
       "      <th>Split Address</th>\n",
       "      <th>City</th>\n",
       "    </tr>\n",
       "  </thead>\n",
       "  <tbody>\n",
       "    <tr>\n",
       "      <th>0</th>\n",
       "      <td>176558</td>\n",
       "      <td>USB-C Charging Cable</td>\n",
       "      <td>2</td>\n",
       "      <td>11.95</td>\n",
       "      <td>04/19/19 08:46</td>\n",
       "      <td>917 1st St, Dallas, TX 75001</td>\n",
       "      <td>4</td>\n",
       "      <td>23.90</td>\n",
       "      <td>[917 1st St,  Dallas,  TX 75001]</td>\n",
       "      <td>Dallas</td>\n",
       "    </tr>\n",
       "    <tr>\n",
       "      <th>2</th>\n",
       "      <td>176559</td>\n",
       "      <td>Bose SoundSport Headphones</td>\n",
       "      <td>1</td>\n",
       "      <td>99.99</td>\n",
       "      <td>04/07/19 22:30</td>\n",
       "      <td>682 Chestnut St, Boston, MA 02215</td>\n",
       "      <td>4</td>\n",
       "      <td>99.99</td>\n",
       "      <td>[682 Chestnut St,  Boston,  MA 02215]</td>\n",
       "      <td>Boston</td>\n",
       "    </tr>\n",
       "    <tr>\n",
       "      <th>3</th>\n",
       "      <td>176560</td>\n",
       "      <td>Google Phone</td>\n",
       "      <td>1</td>\n",
       "      <td>600</td>\n",
       "      <td>04/12/19 14:38</td>\n",
       "      <td>669 Spruce St, Los Angeles, CA 90001</td>\n",
       "      <td>4</td>\n",
       "      <td>600.00</td>\n",
       "      <td>[669 Spruce St,  Los Angeles,  CA 90001]</td>\n",
       "      <td>Los Angeles</td>\n",
       "    </tr>\n",
       "    <tr>\n",
       "      <th>4</th>\n",
       "      <td>176560</td>\n",
       "      <td>Wired Headphones</td>\n",
       "      <td>1</td>\n",
       "      <td>11.99</td>\n",
       "      <td>04/12/19 14:38</td>\n",
       "      <td>669 Spruce St, Los Angeles, CA 90001</td>\n",
       "      <td>4</td>\n",
       "      <td>11.99</td>\n",
       "      <td>[669 Spruce St,  Los Angeles,  CA 90001]</td>\n",
       "      <td>Los Angeles</td>\n",
       "    </tr>\n",
       "    <tr>\n",
       "      <th>5</th>\n",
       "      <td>176561</td>\n",
       "      <td>Wired Headphones</td>\n",
       "      <td>1</td>\n",
       "      <td>11.99</td>\n",
       "      <td>04/30/19 09:27</td>\n",
       "      <td>333 8th St, Los Angeles, CA 90001</td>\n",
       "      <td>4</td>\n",
       "      <td>11.99</td>\n",
       "      <td>[333 8th St,  Los Angeles,  CA 90001]</td>\n",
       "      <td>Los Angeles</td>\n",
       "    </tr>\n",
       "  </tbody>\n",
       "</table>\n",
       "</div>"
      ],
      "text/plain": [
       "  Order ID                     Product Quantity Ordered Price Each  \\\n",
       "0   176558        USB-C Charging Cable                2      11.95   \n",
       "2   176559  Bose SoundSport Headphones                1      99.99   \n",
       "3   176560                Google Phone                1        600   \n",
       "4   176560            Wired Headphones                1      11.99   \n",
       "5   176561            Wired Headphones                1      11.99   \n",
       "\n",
       "       Order Date                      Purchase Address  Month  Amount  \\\n",
       "0  04/19/19 08:46          917 1st St, Dallas, TX 75001      4   23.90   \n",
       "2  04/07/19 22:30     682 Chestnut St, Boston, MA 02215      4   99.99   \n",
       "3  04/12/19 14:38  669 Spruce St, Los Angeles, CA 90001      4  600.00   \n",
       "4  04/12/19 14:38  669 Spruce St, Los Angeles, CA 90001      4   11.99   \n",
       "5  04/30/19 09:27     333 8th St, Los Angeles, CA 90001      4   11.99   \n",
       "\n",
       "                              Split Address         City  \n",
       "0          [917 1st St,  Dallas,  TX 75001]       Dallas  \n",
       "2     [682 Chestnut St,  Boston,  MA 02215]       Boston  \n",
       "3  [669 Spruce St,  Los Angeles,  CA 90001]  Los Angeles  \n",
       "4  [669 Spruce St,  Los Angeles,  CA 90001]  Los Angeles  \n",
       "5     [333 8th St,  Los Angeles,  CA 90001]  Los Angeles  "
      ]
     },
     "execution_count": 51,
     "metadata": {},
     "output_type": "execute_result"
    }
   ],
   "source": [
    "all_data.head()"
   ]
  },
  {
   "cell_type": "code",
   "execution_count": 112,
   "id": "babcd4f3",
   "metadata": {},
   "outputs": [],
   "source": [
    "result2 = all_data.groupby('City').sum('Amount')"
   ]
  },
  {
   "cell_type": "code",
   "execution_count": 111,
   "id": "d59e0578",
   "metadata": {},
   "outputs": [
    {
     "data": {
      "text/html": [
       "<div>\n",
       "<style scoped>\n",
       "    .dataframe tbody tr th:only-of-type {\n",
       "        vertical-align: middle;\n",
       "    }\n",
       "\n",
       "    .dataframe tbody tr th {\n",
       "        vertical-align: top;\n",
       "    }\n",
       "\n",
       "    .dataframe thead th {\n",
       "        text-align: right;\n",
       "    }\n",
       "</style>\n",
       "<table border=\"1\" class=\"dataframe\">\n",
       "  <thead>\n",
       "    <tr style=\"text-align: right;\">\n",
       "      <th></th>\n",
       "      <th>Month</th>\n",
       "      <th>Amount</th>\n",
       "    </tr>\n",
       "    <tr>\n",
       "      <th>City</th>\n",
       "      <th></th>\n",
       "      <th></th>\n",
       "    </tr>\n",
       "  </thead>\n",
       "  <tbody>\n",
       "    <tr>\n",
       "      <th>Portland (ME)</th>\n",
       "      <td>17144</td>\n",
       "      <td>449758.27</td>\n",
       "    </tr>\n",
       "    <tr>\n",
       "      <th>Austin (TX)</th>\n",
       "      <td>69829</td>\n",
       "      <td>1819581.75</td>\n",
       "    </tr>\n",
       "    <tr>\n",
       "      <th>Portland (OR)</th>\n",
       "      <td>70621</td>\n",
       "      <td>1870732.34</td>\n",
       "    </tr>\n",
       "    <tr>\n",
       "      <th>Seattle (WA)</th>\n",
       "      <td>104941</td>\n",
       "      <td>2747755.48</td>\n",
       "    </tr>\n",
       "    <tr>\n",
       "      <th>Dallas (TX)</th>\n",
       "      <td>104620</td>\n",
       "      <td>2767975.40</td>\n",
       "    </tr>\n",
       "    <tr>\n",
       "      <th>Atlanta (GA)</th>\n",
       "      <td>104794</td>\n",
       "      <td>2795498.58</td>\n",
       "    </tr>\n",
       "    <tr>\n",
       "      <th>Boston (MA)</th>\n",
       "      <td>141112</td>\n",
       "      <td>3661642.01</td>\n",
       "    </tr>\n",
       "    <tr>\n",
       "      <th>New York City (NY)</th>\n",
       "      <td>175741</td>\n",
       "      <td>4664317.43</td>\n",
       "    </tr>\n",
       "    <tr>\n",
       "      <th>Los Angeles (CA)</th>\n",
       "      <td>208325</td>\n",
       "      <td>5452570.80</td>\n",
       "    </tr>\n",
       "    <tr>\n",
       "      <th>San Francisco (CA)</th>\n",
       "      <td>315520</td>\n",
       "      <td>8262203.91</td>\n",
       "    </tr>\n",
       "  </tbody>\n",
       "</table>\n",
       "</div>"
      ],
      "text/plain": [
       "                      Month      Amount\n",
       "City                                   \n",
       " Portland (ME)        17144   449758.27\n",
       " Austin (TX)          69829  1819581.75\n",
       " Portland (OR)        70621  1870732.34\n",
       " Seattle (WA)        104941  2747755.48\n",
       " Dallas (TX)         104620  2767975.40\n",
       " Atlanta (GA)        104794  2795498.58\n",
       " Boston (MA)         141112  3661642.01\n",
       " New York City (NY)  175741  4664317.43\n",
       " Los Angeles (CA)    208325  5452570.80\n",
       " San Francisco (CA)  315520  8262203.91"
      ]
     },
     "execution_count": 111,
     "metadata": {},
     "output_type": "execute_result"
    }
   ],
   "source": [
    "\n",
    "result2.reset_index()\n",
    "result2.sort_values('Amount')"
   ]
  },
  {
   "cell_type": "code",
   "execution_count": 114,
   "id": "38089af3",
   "metadata": {},
   "outputs": [
    {
     "data": {
      "text/plain": [
       "Text(0.5, 0, 'Cities')"
      ]
     },
     "execution_count": 114,
     "metadata": {},
     "output_type": "execute_result"
    },
    {
     "data": {
      "image/png": "[encoded data removed]",
      "text/plain": [
       "<Figure size 640x480 with 1 Axes>"
      ]
     },
     "metadata": {},
     "output_type": "display_data"
    }
   ],
   "source": [
    "cities = [city for city,df in all_data.groupby('City')]\n",
    "plt.bar(cities, result2['Amount'])\n",
    "plt.xticks(all_data['City'].unique(),rotation = 'vertical', size = 8)\n",
    "plt.ylabel('Sales in USD')\n",
    "plt.xlabel('Cities')"
   ]
  },
  {
   "cell_type": "markdown",
   "id": "491bf2f7",
   "metadata": {},
   "source": [
    "## Question 3 : What time should we display advertisements to maximize the likelihood of customer's buying product?"
   ]
  },
  {
   "cell_type": "code",
   "execution_count": 117,
   "id": "a5c54a67",
   "metadata": {},
   "outputs": [],
   "source": [
    "all_data['Order Date'] = pd.to_datetime(all_data['Order Date'])"
   ]
  },
  {
   "cell_type": "code",
   "execution_count": 118,
   "id": "8e68ea51",
   "metadata": {},
   "outputs": [],
   "source": [
    "all_data['Hour'] = all_data['Order Date'].dt.hour"
   ]
  },
  {
   "cell_type": "code",
   "execution_count": 119,
   "id": "e3a025ef",
   "metadata": {},
   "outputs": [],
   "source": [
    "hours = [hour for hour, df in all_data.groupby('Hour')]"
   ]
  },
  {
   "cell_type": "code",
   "execution_count": 127,
   "id": "341a8578",
   "metadata": {},
   "outputs": [
    {
     "data": {
      "text/plain": [
       "Text(0, 0.5, 'Sale Count')"
      ]
     },
     "execution_count": 127,
     "metadata": {},
     "output_type": "execute_result"
    },
    {
     "data": {
      "image/png": "[encoded data removed]",
      "text/plain": [
       "<Figure size 640x480 with 1 Axes>"
      ]
     },
     "metadata": {},
     "output_type": "display_data"
    }
   ],
   "source": [
    "plt.plot(hours, all_data.groupby('Hour').count())\n",
    "plt.xticks(hours)\n",
    "plt.grid()\n",
    "plt.xlabel('Hours')\n",
    "plt.ylabel('Sale Count')\n",
    "\n",
    "# Recommendation - Between 11 am & 12 pm  AND  between 6 pm and 7 pm (The chart could also be broken at a city level)"
   ]
  },
  {
   "cell_type": "markdown",
   "id": "757c0648",
   "metadata": {},
   "source": [
    "## Question 4 : What products are most often sold together?"
   ]
  },
  {
   "cell_type": "code",
   "execution_count": 186,
   "id": "61baea3c",
   "metadata": {},
   "outputs": [],
   "source": [
    "df = all_data[all_data['Order ID'].duplicated(keep = False)]"
   ]
  },
  {
   "cell_type": "code",
   "execution_count": 187,
   "id": "f827d1c6",
   "metadata": {},
   "outputs": [
    {
     "name": "stderr",
     "output_type": "stream",
     "text": [
      "C:\\Users\\manan\\AppData\\Local\\Temp\\ipykernel_17848\\1806391791.py:1: SettingWithCopyWarning: \n",
      "A value is trying to be set on a copy of a slice from a DataFrame.\n",
      "Try using .loc[row_indexer,col_indexer] = value instead\n",
      "\n",
      "See the caveats in the documentation: https://pandas.pydata.org/pandas-docs/stable/user_guide/indexing.html#returning-a-view-versus-a-copy\n",
      "  df['Grouped'] = df.groupby('Order ID')['Product'].transform(lambda x : ','.join(x))\n"
     ]
    }
   ],
   "source": [
    "df['Grouped'] = df.groupby('Order ID')['Product'].transform(lambda x : ','.join(x))"
   ]
  },
  {
   "cell_type": "code",
   "execution_count": 188,
   "id": "7d3cbdc6",
   "metadata": {},
   "outputs": [],
   "source": [
    "df = df[['Order ID', 'Grouped']].drop_duplicates()"
   ]
  },
  {
   "cell_type": "code",
   "execution_count": 189,
   "id": "34178329",
   "metadata": {},
   "outputs": [
    {
     "data": {
      "text/html": [
       "<div>\n",
       "<style scoped>\n",
       "    .dataframe tbody tr th:only-of-type {\n",
       "        vertical-align: middle;\n",
       "    }\n",
       "\n",
       "    .dataframe tbody tr th {\n",
       "        vertical-align: top;\n",
       "    }\n",
       "\n",
       "    .dataframe thead th {\n",
       "        text-align: right;\n",
       "    }\n",
       "</style>\n",
       "<table border=\"1\" class=\"dataframe\">\n",
       "  <thead>\n",
       "    <tr style=\"text-align: right;\">\n",
       "      <th></th>\n",
       "      <th>Order ID</th>\n",
       "      <th>Grouped</th>\n",
       "    </tr>\n",
       "  </thead>\n",
       "  <tbody>\n",
       "    <tr>\n",
       "      <th>3</th>\n",
       "      <td>176560</td>\n",
       "      <td>Google Phone,Wired Headphones</td>\n",
       "    </tr>\n",
       "    <tr>\n",
       "      <th>18</th>\n",
       "      <td>176574</td>\n",
       "      <td>Google Phone,USB-C Charging Cable</td>\n",
       "    </tr>\n",
       "    <tr>\n",
       "      <th>30</th>\n",
       "      <td>176585</td>\n",
       "      <td>Bose SoundSport Headphones,Bose SoundSport Hea...</td>\n",
       "    </tr>\n",
       "    <tr>\n",
       "      <th>32</th>\n",
       "      <td>176586</td>\n",
       "      <td>AAA Batteries (4-pack),Google Phone</td>\n",
       "    </tr>\n",
       "    <tr>\n",
       "      <th>119</th>\n",
       "      <td>176672</td>\n",
       "      <td>Lightning Charging Cable,USB-C Charging Cable</td>\n",
       "    </tr>\n",
       "  </tbody>\n",
       "</table>\n",
       "</div>"
      ],
      "text/plain": [
       "    Order ID                                            Grouped\n",
       "3     176560                      Google Phone,Wired Headphones\n",
       "18    176574                  Google Phone,USB-C Charging Cable\n",
       "30    176585  Bose SoundSport Headphones,Bose SoundSport Hea...\n",
       "32    176586                AAA Batteries (4-pack),Google Phone\n",
       "119   176672      Lightning Charging Cable,USB-C Charging Cable"
      ]
     },
     "execution_count": 189,
     "metadata": {},
     "output_type": "execute_result"
    }
   ],
   "source": [
    "df.head()"
   ]
  },
  {
   "cell_type": "code",
   "execution_count": 191,
   "id": "30b0ec30",
   "metadata": {},
   "outputs": [
    {
     "name": "stdout",
     "output_type": "stream",
     "text": [
      "[(('iPhone', 'Lightning Charging Cable'), 1005), (('Google Phone', 'USB-C Charging Cable'), 987), (('iPhone', 'Wired Headphones'), 447), (('Google Phone', 'Wired Headphones'), 414), (('Vareebadd Phone', 'USB-C Charging Cable'), 361), (('iPhone', 'Apple Airpods Headphones'), 360), (('Google Phone', 'Bose SoundSport Headphones'), 220), (('USB-C Charging Cable', 'Wired Headphones'), 160), (('Vareebadd Phone', 'Wired Headphones'), 143), (('Lightning Charging Cable', 'Wired Headphones'), 92)]\n"
     ]
    }
   ],
   "source": [
    "from itertools import combinations\n",
    "from collections import Counter\n",
    "\n",
    "count = Counter()\n",
    "\n",
    "for row in df['Grouped']:\n",
    "    row_list = row.split(',')\n",
    "    count.update(Counter(combinations(row_list,2)))\n",
    "\n",
    "print(count.most_common(10))"
   ]
  },
  {
   "cell_type": "markdown",
   "id": "2f2a181d",
   "metadata": {},
   "source": [
    "## Question 5 : What product sold the most ? Why do you think it sold the most?"
   ]
  },
  {
   "cell_type": "code",
   "execution_count": 228,
   "id": "c866c35e",
   "metadata": {},
   "outputs": [
    {
     "name": "stderr",
     "output_type": "stream",
     "text": [
      "C:\\Users\\manan\\AppData\\Local\\Temp\\ipykernel_17848\\2072530054.py:2: SettingWithCopyWarning: \n",
      "A value is trying to be set on a copy of a slice from a DataFrame.\n",
      "Try using .loc[row_indexer,col_indexer] = value instead\n",
      "\n",
      "See the caveats in the documentation: https://pandas.pydata.org/pandas-docs/stable/user_guide/indexing.html#returning-a-view-versus-a-copy\n",
      "  product_group['Quantity Ordered'] = pd.to_numeric(product_group['Quantity Ordered'])\n"
     ]
    }
   ],
   "source": [
    "product_group = all_data[['Quantity Ordered', 'Product']]\n",
    "product_group['Quantity Ordered'] = pd.to_numeric(product_group['Quantity Ordered'])\n",
    "product_group = product_group.groupby('Product')\n",
    "quantity_ordered = product_group.sum()['Quantity Ordered']"
   ]
  },
  {
   "cell_type": "code",
   "execution_count": 233,
   "id": "c4134faa",
   "metadata": {},
   "outputs": [
    {
     "data": {
      "text/plain": [
       "Text(0, 0.5, 'Quantity Ordered')"
      ]
     },
     "execution_count": 233,
     "metadata": {},
     "output_type": "execute_result"
    },
    {
     "data": {
      "image/png": "[encoded data removed]",
      "text/plain": [
       "<Figure size 640x480 with 1 Axes>"
      ]
     },
     "metadata": {},
     "output_type": "display_data"
    }
   ],
   "source": [
    "products = [product for product, df in product_group]\n",
    "\n",
    "plt.bar(products,quantity_ordered)\n",
    "plt.xticks(products, rotation = 'vertical', size = 8)\n",
    "plt.xlabel('Product')\n",
    "plt.ylabel('Quantity Ordered')"
   ]
  },
  {
   "cell_type": "code",
   "execution_count": 236,
   "id": "1cc5803a",
   "metadata": {},
   "outputs": [],
   "source": [
    "prices = all_data.groupby('Product').mean('Price Each')"
   ]
  },
  {
   "cell_type": "code",
   "execution_count": 244,
   "id": "825f16b7",
   "metadata": {},
   "outputs": [
    {
     "name": "stderr",
     "output_type": "stream",
     "text": [
      "C:\\Users\\manan\\AppData\\Local\\Temp\\ipykernel_17848\\1444409394.py:4: UserWarning: FixedFormatter should only be used together with FixedLocator\n",
      "  ax.set_xticklabels(products,rotation = 'vertical', size = 6)\n"
     ]
    },
    {
     "data": {
      "text/plain": [
       "Text(0, 0.5, 'Prices')"
      ]
     },
     "execution_count": 244,
     "metadata": {},
     "output_type": "execute_result"
    },
    {
     "data": {
      "image/png": "[encoded data removed]",
      "text/plain": [
       "<Figure size 640x480 with 2 Axes>"
      ]
     },
     "metadata": {},
     "output_type": "display_data"
    }
   ],
   "source": [
    "fig,ax = plt.subplots()\n",
    "ax2 = ax.twinx()\n",
    "ax.bar(products, quantity_ordered, color = 'g')\n",
    "ax.set_xticklabels(products,rotation = 'vertical', size = 6)\n",
    "ax.set_xlabel('Product')\n",
    "ax.set_ylabel('Quantity Ordered', color = 'g')\n",
    "ax2.plot(products, prices, color = 'b')\n",
    "ax2.set_ylabel('Prices', color = 'b')\n",
    "\n",
    "\n"
   ]
  },
  {
   "cell_type": "code",
   "execution_count": null,
   "id": "9910cd4f",
   "metadata": {},
   "outputs": [],
   "source": []
  }
 ],
 "metadata": {
  "celltoolbar": "Raw Cell Format",
  "kernelspec": {
   "display_name": "Python 3 (ipykernel)",
   "language": "python",
   "name": "python3"
  },
  "language_info": {
   "codemirror_mode": {
    "name": "ipython",
    "version": 3
   },
   "file_extension": ".py",
   "mimetype": "text/x-python",
   "name": "python",
   "nbconvert_exporter": "python",
   "pygments_lexer": "ipython3",
   "version": "3.10.9"
  }
 },
 "nbformat": 4,
 "nbformat_minor": 5
}
